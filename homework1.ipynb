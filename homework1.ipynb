{
 "cells": [
  {
   "cell_type": "code",
   "execution_count": null,
   "metadata": {},
   "outputs": [],
   "source": [
    "import numpy as np\n",
    "\n",
    "# Создание массива NumPy из случайных данных\n",
    "data = np.random.rand(100, 3)  # Создаем массив 100 строк и 3 столбца с случайными значениями\n",
    "\n",
    "# Получение атрибутов массива\n",
    "num_dimensions = data.ndim  # Число измерений\n",
    "shape = data.shape  # Размеры массива\n",
    "num_elements = data.size  # Количество элементов\n",
    "data_type = data.dtype  # Тип данных элементов\n",
    "\n",
    "# Вывод атрибутов массива\n",
    "print(\"Число измерений:\", num_dimensions)\n",
    "print(\"Размеры массива:\", shape)\n",
    "print(\"Количество элементов:\", num_elements)\n",
    "print(\"Тип данных элементов:\", data_type)\n",
    "\n",
    "# Выборка элемента по индексу и выполнение срезов данных массива\n",
    "element = data[0, 1]  # Выбор элемента из первой строки и второго столбца (индексы начинаются с 0)\n",
    "slice_data = data[10:20, :]  # Срез данных от 10-й до 19-й строки (включительно) с использованием всех столбцов\n",
    "\n",
    "# Выполнение математических и статистических функций\n",
    "sum_data = np.sum(data)  # Сумма элементов массива\n",
    "mean_data = np.mean(data)  # Среднее значение\n",
    "median_data = np.median(data)  # Медиана\n",
    "std_data = np.std(data)  # Отклонение от среднего\n",
    "\n",
    "# Вывод результатов\n",
    "print(\"Элемент по индексу [0, 1]:\", element)\n",
    "print(\"Срез данных от 10-й до 19-й строки:\\n\", slice_data)\n",
    "print(\"Сумма элементов:\", sum_data)\n",
    "print(\"Среднее значение:\", mean_data)\n",
    "print(\"Медиана:\", median_data)\n",
    "print(\"Отклонение от среднего:\", std_data)"
   ]
  }
 ],
 "metadata": {
  "language_info": {
   "name": "python"
  }
 },
 "nbformat": 4,
 "nbformat_minor": 2
}
